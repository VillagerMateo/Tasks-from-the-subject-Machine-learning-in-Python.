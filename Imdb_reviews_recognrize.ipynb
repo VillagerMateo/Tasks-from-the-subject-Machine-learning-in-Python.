{
  "nbformat": 4,
  "nbformat_minor": 0,
  "metadata": {
    "colab": {
      "name": "Imdb_reviews_recognrize",
      "provenance": [],
      "collapsed_sections": []
    },
    "kernelspec": {
      "name": "python3",
      "display_name": "Python 3"
    },
    "language_info": {
      "name": "python"
    }
  },
  "cells": [
    {
      "cell_type": "code",
      "execution_count": 1,
      "metadata": {
        "id": "ivOrT7gqbZIU"
      },
      "outputs": [],
      "source": [
        "from tensorflow.keras.preprocessing import text_dataset_from_directory\n",
        "from tensorflow.strings import regex_replace\n",
        "from tensorflow.keras.layers.experimental.preprocessing import TextVectorization\n",
        "from tensorflow.keras.models import Sequential\n",
        "from tensorflow.keras import Input\n",
        "from tensorflow.keras.layers import Dense, LSTM, Embedding, Dropout"
      ]
    },
    {
      "cell_type": "code",
      "source": [
        "def prepareData(dir):\n",
        "  data = text_dataset_from_directory(dir)\n",
        "  return data.map(\n",
        "    lambda text, label: (regex_replace(text, '<br />', ' '), label),\n",
        "  )"
      ],
      "metadata": {
        "id": "FnBzRYFYblxA"
      },
      "execution_count": 2,
      "outputs": []
    },
    {
      "cell_type": "code",
      "source": [
        "# Dataset directory.\n",
        "train_data = prepareData('/content/drive/MyDrive/ZADANIA - zaliczenie/aclImdb/train')\n",
        "test_data = prepareData('/content/drive/MyDrive/ZADANIA - zaliczenie/aclImdb/test')"
      ],
      "metadata": {
        "colab": {
          "base_uri": "https://localhost:8080/"
        },
        "id": "n0MBCOm6brMz",
        "outputId": "d08f8bc0-e46c-4988-92e4-7f54301d201e"
      },
      "execution_count": 3,
      "outputs": [
        {
          "output_type": "stream",
          "name": "stdout",
          "text": [
            "Found 4276 files belonging to 2 classes.\n",
            "Found 4276 files belonging to 2 classes.\n"
          ]
        }
      ]
    },
    {
      "cell_type": "code",
      "source": [
        "for text_batch, label_batch in train_data.take(1):\n",
        "  print(text_batch.numpy()[0])\n",
        "  print(label_batch.numpy()[0]) # 0 = negative, 1 = positive"
      ],
      "metadata": {
        "colab": {
          "base_uri": "https://localhost:8080/"
        },
        "id": "eBe3lsKQb0HE",
        "outputId": "2ef94244-a8be-4d66-d2a1-634d731a958a"
      },
      "execution_count": 4,
      "outputs": [
        {
          "output_type": "stream",
          "name": "stdout",
          "text": [
            "b'The big bad swim has a low budget, indie feel about it. So many times I start to watch independent films that have had really good reviews only to find out they are pretentious crud, voted for by people who are so blinded by the idea of the film and its potential to be provocative that they forget that film is a form of entertainment first and foremost.  I do not know if The big bad swim has any message or higher meaning or metaphor, if it does then I missed it.  From the get go BBS felt right, it was easy and warm and human, there were no major dramas or meaningful insights, I just connected with the characters straight off. And when, as with all good films the end came around I felt sadness at the loss of that connection.  If you are looking for something big, or fast or insightful look elsewhere, look for a film trying to deliver more than it can. BBS delivers a solid, enjoyable, real experience and I felt rewarded and satiated having watched it.'\n",
            "1\n"
          ]
        }
      ]
    },
    {
      "cell_type": "code",
      "source": [
        "model = Sequential()"
      ],
      "metadata": {
        "id": "cIjvBf4pb2ri"
      },
      "execution_count": 5,
      "outputs": []
    },
    {
      "cell_type": "code",
      "source": [
        "# ----- 1. INPUT\n",
        "# Use the TextVectorization layer next.\n",
        "model.add(Input(shape=(1,), dtype=\"string\"))"
      ],
      "metadata": {
        "id": "pRDpdsJ4cLVe"
      },
      "execution_count": 6,
      "outputs": []
    },
    {
      "cell_type": "code",
      "source": [
        "# ----- 2. TEXT VECTORIZATION\n",
        "max_tokens = 2000\n",
        "max_len = 100\n",
        "vectorize_layer = TextVectorization(\n",
        "  \n",
        "  max_tokens=max_tokens,\n",
        "  output_mode=\"int\",\n",
        "  \n",
        "  output_sequence_length=max_len,\n",
        ")"
      ],
      "metadata": {
        "id": "H0Hxb00WcMlW"
      },
      "execution_count": 7,
      "outputs": []
    },
    {
      "cell_type": "code",
      "source": [
        "# Call adapt()\n",
        "train_texts = train_data.map(lambda text, label: text)\n",
        "vectorize_layer.adapt(train_texts)"
      ],
      "metadata": {
        "id": "t9zANEU_cPLj"
      },
      "execution_count": 8,
      "outputs": []
    },
    {
      "cell_type": "code",
      "source": [
        "model.add(vectorize_layer)"
      ],
      "metadata": {
        "id": "d5pvIl4sdXlL"
      },
      "execution_count": 9,
      "outputs": []
    },
    {
      "cell_type": "code",
      "source": [
        "# ----- 3. EMBEDDING\n",
        "model.add(Embedding(max_tokens + 1, 128))"
      ],
      "metadata": {
        "id": "gKiZtKLydbAD"
      },
      "execution_count": 10,
      "outputs": []
    },
    {
      "cell_type": "code",
      "source": [
        "# ----- 4. RECURRENT LAYER\n",
        "model.add(LSTM(64))\n",
        "\n",
        "# ----- 5. DENSE HIDDEN LAYER\n",
        "model.add(Dense(64, activation=\"relu\"))\n",
        "\n",
        "# ----- 6. OUTPUT\n",
        "model.add(Dense(1, activation=\"sigmoid\"))"
      ],
      "metadata": {
        "id": "fXnY1XxAda5c"
      },
      "execution_count": 11,
      "outputs": []
    },
    {
      "cell_type": "code",
      "source": [
        "# Compile and train the model.\n",
        "model.compile(loss=\"binary_crossentropy\", optimizer=\"adam\", metrics=[\"accuracy\"])\n",
        "model.fit(train_data, epochs=10)"
      ],
      "metadata": {
        "colab": {
          "base_uri": "https://localhost:8080/"
        },
        "id": "Xygc-uaLdaxw",
        "outputId": "7067ef41-a937-44fa-b55f-0996609ed051"
      },
      "execution_count": 12,
      "outputs": [
        {
          "output_type": "stream",
          "name": "stdout",
          "text": [
            "Epoch 1/10\n",
            "134/134 [==============================] - 11s 68ms/step - loss: 0.6350 - accuracy: 0.6300\n",
            "Epoch 2/10\n",
            "134/134 [==============================] - 9s 69ms/step - loss: 0.4610 - accuracy: 0.7951\n",
            "Epoch 3/10\n",
            "134/134 [==============================] - 9s 67ms/step - loss: 0.3565 - accuracy: 0.8559\n",
            "Epoch 4/10\n",
            "134/134 [==============================] - 9s 68ms/step - loss: 0.2712 - accuracy: 0.9008\n",
            "Epoch 5/10\n",
            "134/134 [==============================] - 9s 67ms/step - loss: 0.2168 - accuracy: 0.9177\n",
            "Epoch 6/10\n",
            "134/134 [==============================] - 9s 67ms/step - loss: 0.1610 - accuracy: 0.9439\n",
            "Epoch 7/10\n",
            "134/134 [==============================] - 9s 67ms/step - loss: 0.1223 - accuracy: 0.9612\n",
            "Epoch 8/10\n",
            "134/134 [==============================] - 9s 68ms/step - loss: 0.1099 - accuracy: 0.9663\n",
            "Epoch 9/10\n",
            "134/134 [==============================] - 9s 69ms/step - loss: 0.0976 - accuracy: 0.9712\n",
            "Epoch 10/10\n",
            "134/134 [==============================] - 9s 68ms/step - loss: 0.0726 - accuracy: 0.9773\n"
          ]
        },
        {
          "output_type": "execute_result",
          "data": {
            "text/plain": [
              "<keras.callbacks.History at 0x7f2f8fa8ba50>"
            ]
          },
          "metadata": {},
          "execution_count": 12
        }
      ]
    },
    {
      "cell_type": "code",
      "source": [
        "model.save_weights('rnn')"
      ],
      "metadata": {
        "id": "ekc8ROlhdane"
      },
      "execution_count": 13,
      "outputs": []
    },
    {
      "cell_type": "code",
      "source": [
        "model.load_weights('rnn')"
      ],
      "metadata": {
        "colab": {
          "base_uri": "https://localhost:8080/"
        },
        "id": "WvqDE7RmeumN",
        "outputId": "a64a3e23-50f4-4e5e-ed1b-5b37ce746d19"
      },
      "execution_count": 14,
      "outputs": [
        {
          "output_type": "execute_result",
          "data": {
            "text/plain": [
              "<tensorflow.python.training.tracking.util.CheckpointLoadStatus at 0x7f2f8c78bf10>"
            ]
          },
          "metadata": {},
          "execution_count": 14
        }
      ]
    },
    {
      "cell_type": "code",
      "source": [
        "# 1 = positiv\n",
        "# 0 = negativ\n",
        "\n",
        "\n",
        "# Try the model on test dataset.\n",
        "model.evaluate(test_data)\n",
        "\n",
        "# Should print a very high score.\n",
        "print(model.predict([\n",
        "  \"i loved it! highly recommend it to anyone and everyone looking for a great movie to watch.\",\n",
        "]))\n",
        "\n",
        "# Should print a very low score.\n",
        "print(model.predict([\n",
        "  \"this was awful! i hated it so much, nobody should watch this. the acting was terrible, the music was terrible, overall it was just bad.\",\n",
        "]))\n",
        "\n",
        "print(model.predict([\n",
        "  \"I love beautiful movies. If a film is eye-candy with carefully designed decorations, masterful camerawork, lighting, and architectural frames\",\n",
        "]))\n",
        "\n",
        "print(model.predict([\n",
        "  \"Before starting to review one of the greatest–in my opinion–TV shows of all time, let me put some suspense and psychological pressure on you first.\",\n",
        "]))\n",
        "\n",
        "print(model.predict([\n",
        "  \"f you want to have a good laugh, gather your friends and turn on “Fifty Shades Darker”: I guarantee you will feel like experienced film critics while watching this. Other than this, there are no excuses for watching the movie.\",\n",
        "]))\n",
        "\n",
        "print(model.predict([\n",
        "  \"This is not to mention more technical drawbacks. For example, the direction of the action scenes. \",\n",
        "]))\n",
        "\n",
        "print(model.predict([\n",
        "  \"It is a glorious film, but you could not make it now. And that is not just my opinion. My preview screening companion and fellow lover of weepy old black and white films agreed that not even the director Max Ophüls could get away with this 1948 classic if he tried to make it in 2009.\",\n",
        "]))\n",
        "\n",
        "print(model.predict([\n",
        "  \"The acting in the film is terrific. Keitel and De Niro are standouts, and their verbal interplay takes on almost Abbott And Costello-like humor. \",\n",
        "]))\n",
        "\n",
        "print(model.predict([\n",
        "  \"Once again Mr. Costner has dragged out a movie for far longer than necessary.\",\n",
        "]))\n",
        "\n",
        "print(model.predict([\n",
        "  \"A nut is holding her hostage, children are outside the open screen, so she whimpers for help instead of screaming when only a moment ago she was brave enough to be smashing windows to yell to these same children.<br /><br />She's finally free and alone in the house. Her chance to go for help, so what does she do? Wanders around the house and lies down. She's in the basement, locked away. So what does she do? Takes a little nap. Come on! Most of the movie is the nut wandering away and finding her sitting there snoozing when he wakes her up. Four times! What? If the writer is too bored to actually write a real plot why should we be paying attention? I think the key here is that it was originally a play for the radio, so they filled in with the heroine just sitting around rather than pretending to be screen writers and actually writing any action.<br /><br />And the ending is horrendous.<br /><br />The whole movie is completely implausible, horribly written and almost comically acted. Beware this movie at all costs!\",\n",
        "]))\n",
        "\n",
        "print(model.predict([\n",
        "  \"It is a well-known fact in the video game industry that movies made after video games are often impossible to watch.\",\n",
        "]))\n",
        "\n",
        "print(model.predict([\n",
        "  \"Once more, the maestro of Spanish cinema, Pedro Almodóvar, gives us a heady mixture of suspense, stormy melodrama, and theatrically dramatic characters. Penélope Cruz is superb, José Luis Gómez is tantalisingly elegant, and Lluís Homar is outstanding\",\n",
        "]))\n",
        "\n",
        "print(model.predict([\n",
        "  \"The basic problem is that the film is really good, pushing near greatness, until Elaine finds out about the affair. She and Ben have only gone out once, and just on their second date, he seems to obsess over her, despite the reality of their having little in common.\",\n",
        "]))\n",
        "\n",
        "print(model.predict([\n",
        "  \"Kairo, as well as many other Japanese horror movies, may seem fragmented; there are many secondary characters who appear on screen just to vanish in a couple of minutes and never appear again.\",\n",
        "]))\n",
        "\n",
        "print(model.predict([\n",
        "  \"The end of the movie is probably its best part, even though it contradicts the rest of the movie\",\n",
        "]))\n",
        "\n",
        "print(model.predict([\n",
        "  \"When I started watching I rather expected to see a battle of ideas, an opposition between Freud and Jung, who would prove the worthiness of their methods, with Sabina Spielrein as their patient.\",\n",
        "]))\n",
        "\n",
        "print(model.predict([\n",
        "  \"There were many flaws and drawbacks, starting from numerous assumptions being unscientific, and several gaps in logic. But no matter what, Cure is a bright example of a truly psychological thriller: dark, mysterious, and atmospheric.\",\n",
        "]))\n",
        "\n",
        "print(model.predict([\n",
        "  \"What I also liked was the general idea of the film: even if the situation seems to be hopeless, do not lose your head, try to keep your mind clear, and eventually you will find a solution to any problem.\",\n",
        "]))\n",
        "\n",
        "print(model.predict([\n",
        "  \"What I liked most of all was the actors performances. Every person participating in the film acted so realistically that sometimes it seems you are watching a documentary\",\n",
        "]))\n",
        "\n",
        "print(model.predict([\n",
        "  \"300 has reminded me of a beautiful grim fairy tale. You know it is not true, but since it is written well, you read through it until the end. The movie is the same; you feel like you are being fooled all the time, but the picture is captivating, so you watch until the final credits.\",\n",
        "]))"
      ],
      "metadata": {
        "colab": {
          "base_uri": "https://localhost:8080/"
        },
        "id": "pnMekTrge3X2",
        "outputId": "2b348613-1d53-4b6b-a6e2-2025db105285"
      },
      "execution_count": 15,
      "outputs": [
        {
          "output_type": "stream",
          "name": "stdout",
          "text": [
            "134/134 [==============================] - 5s 35ms/step - loss: 1.2810 - accuracy: 0.7329\n",
            "[[0.93293214]]\n",
            "[[0.00357372]]\n",
            "[[0.9327274]]\n",
            "[[0.9323597]]\n",
            "[[0.93044156]]\n",
            "[[0.9291607]]\n",
            "[[0.9221233]]\n",
            "[[0.9326631]]\n",
            "[[0.9328217]]\n",
            "[[0.9992298]]\n",
            "[[0.9323724]]\n",
            "[[0.93343353]]\n",
            "[[0.91452026]]\n",
            "[[0.71891063]]\n",
            "[[0.93276465]]\n",
            "[[0.931597]]\n",
            "[[0.9305996]]\n",
            "[[0.92353576]]\n",
            "[[0.932523]]\n",
            "[[0.9298743]]\n"
          ]
        }
      ]
    }
  ]
}